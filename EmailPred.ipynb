{
 "cells": [
  {
   "cell_type": "code",
   "execution_count": 1,
   "id": "f0d1eda3-c5fb-4cb7-82a1-64893645dd9b",
   "metadata": {},
   "outputs": [
    {
     "name": "stderr",
     "output_type": "stream",
     "text": [
      "C:\\Users\\sagni\\AppData\\Local\\Programs\\Python\\Python311\\Lib\\site-packages\\keras\\src\\layers\\core\\dense.py:93: UserWarning: Do not pass an `input_shape`/`input_dim` argument to a layer. When using Sequential models, prefer using an `Input(shape)` object as the first layer in the model instead.\n",
      "  super().__init__(activity_regularizer=activity_regularizer, **kwargs)\n"
     ]
    },
    {
     "name": "stdout",
     "output_type": "stream",
     "text": [
      "Epoch 1/10\n",
      "\u001b[1m373/373\u001b[0m \u001b[32m━━━━━━━━━━━━━━━━━━━━\u001b[0m\u001b[37m\u001b[0m \u001b[1m5s\u001b[0m 8ms/step - accuracy: 0.8469 - loss: 0.3169 - val_accuracy: 0.9678 - val_loss: 0.0789\n",
      "Epoch 2/10\n",
      "\u001b[1m373/373\u001b[0m \u001b[32m━━━━━━━━━━━━━━━━━━━━\u001b[0m\u001b[37m\u001b[0m \u001b[1m3s\u001b[0m 7ms/step - accuracy: 0.9847 - loss: 0.0395 - val_accuracy: 0.9698 - val_loss: 0.0753\n",
      "Epoch 3/10\n",
      "\u001b[1m373/373\u001b[0m \u001b[32m━━━━━━━━━━━━━━━━━━━━\u001b[0m\u001b[37m\u001b[0m \u001b[1m3s\u001b[0m 7ms/step - accuracy: 0.9853 - loss: 0.0267 - val_accuracy: 0.9718 - val_loss: 0.0767\n",
      "Epoch 4/10\n",
      "\u001b[1m373/373\u001b[0m \u001b[32m━━━━━━━━━━━━━━━━━━━━\u001b[0m\u001b[37m\u001b[0m \u001b[1m3s\u001b[0m 7ms/step - accuracy: 0.9864 - loss: 0.0224 - val_accuracy: 0.9718 - val_loss: 0.0799\n",
      "Epoch 5/10\n",
      "\u001b[1m373/373\u001b[0m \u001b[32m━━━━━━━━━━━━━━━━━━━━\u001b[0m\u001b[37m\u001b[0m \u001b[1m3s\u001b[0m 7ms/step - accuracy: 0.9869 - loss: 0.0242 - val_accuracy: 0.9718 - val_loss: 0.0822\n",
      "\u001b[1m117/117\u001b[0m \u001b[32m━━━━━━━━━━━━━━━━━━━━\u001b[0m\u001b[37m\u001b[0m \u001b[1m0s\u001b[0m 3ms/step\n",
      "\n",
      "=== Classification Report ===\n"
     ]
    },
    {
     "name": "stderr",
     "output_type": "stream",
     "text": [
      "WARNING:absl:You are saving your model as an HDF5 file via `model.save()` or `keras.saving.save_model(model)`. This file format is considered legacy. We recommend using instead the native Keras format, e.g. `model.save('my_model.keras')` or `keras.saving.save_model(model, 'my_model.keras')`. \n"
     ]
    },
    {
     "name": "stdout",
     "output_type": "stream",
     "text": [
      "                precision    recall  f1-score   support\n",
      "\n",
      "Phishing Email       0.96      0.97      0.97      1457\n",
      "    Safe Email       0.98      0.97      0.98      2273\n",
      "\n",
      "      accuracy                           0.97      3730\n",
      "     macro avg       0.97      0.97      0.97      3730\n",
      "  weighted avg       0.97      0.97      0.97      3730\n",
      "\n",
      "Accuracy: 0.9737\n",
      "\n",
      "✅ Model and vectorizer saved successfully.\n"
     ]
    }
   ],
   "source": [
    "import pandas as pd\n",
    "import numpy as np\n",
    "import os\n",
    "from sklearn.model_selection import train_test_split\n",
    "from sklearn.feature_extraction.text import TfidfVectorizer\n",
    "from sklearn.preprocessing import LabelEncoder\n",
    "from sklearn.metrics import classification_report, accuracy_score\n",
    "from tensorflow.keras.models import Sequential\n",
    "from tensorflow.keras.layers import Dense, Dropout\n",
    "from tensorflow.keras.callbacks import EarlyStopping\n",
    "import joblib\n",
    "\n",
    "# === Step 1: Load Dataset ===\n",
    "data_path = r\"C:\\Users\\sagni\\Downloads\\Email Phising Detector\\Phishing_Email.csv\"\n",
    "df = pd.read_csv(data_path)\n",
    "\n",
    "# === Step 2: Preprocessing ===\n",
    "# Drop Unnamed column if present\n",
    "if 'Unnamed: 0' in df.columns:\n",
    "    df = df.drop(columns=['Unnamed: 0'])\n",
    "\n",
    "# Fill missing values if any\n",
    "df['Email Text'] = df['Email Text'].fillna(\"\")\n",
    "\n",
    "# Encode labels: 'Phishing Email' → 1, 'Safe Email' → 0\n",
    "label_encoder = LabelEncoder()\n",
    "df['Label'] = label_encoder.fit_transform(df['Email Type'])\n",
    "\n",
    "# Save label encoder\n",
    "joblib.dump(label_encoder, \"label_encoder.pkl\")\n",
    "\n",
    "# === Step 3: Vectorization ===\n",
    "vectorizer = TfidfVectorizer(stop_words='english', max_features=10000)\n",
    "X = vectorizer.fit_transform(df['Email Text']).toarray()\n",
    "\n",
    "# Save vectorizer\n",
    "joblib.dump(vectorizer, \"tfidf_vectorizer.pkl\")\n",
    "\n",
    "y = df['Label'].values\n",
    "\n",
    "# Train-test split\n",
    "X_train, X_test, y_train, y_test = train_test_split(X, y, test_size=0.2, random_state=42)\n",
    "\n",
    "# === Step 4: Build Neural Network Model ===\n",
    "model = Sequential()\n",
    "model.add(Dense(128, activation='relu', input_shape=(X_train.shape[1],)))\n",
    "model.add(Dropout(0.3))\n",
    "model.add(Dense(64, activation='relu'))\n",
    "model.add(Dropout(0.3))\n",
    "model.add(Dense(1, activation='sigmoid'))  # Binary classification\n",
    "\n",
    "model.compile(optimizer='adam', loss='binary_crossentropy', metrics=['accuracy'])\n",
    "\n",
    "# === Step 5: Train Model ===\n",
    "early_stop = EarlyStopping(monitor='val_loss', patience=3, restore_best_weights=True)\n",
    "\n",
    "model.fit(X_train, y_train, epochs=10, batch_size=32,\n",
    "          validation_split=0.2, callbacks=[early_stop])\n",
    "\n",
    "# === Step 6: Evaluate ===\n",
    "y_pred = model.predict(X_test).flatten()\n",
    "y_pred_label = np.where(y_pred > 0.5, 1, 0)\n",
    "\n",
    "print(\"\\n=== Classification Report ===\")\n",
    "print(classification_report(y_test, y_pred_label, target_names=label_encoder.classes_))\n",
    "print(f\"Accuracy: {accuracy_score(y_test, y_pred_label):.4f}\")\n",
    "\n",
    "# === Step 7: Save Model ===\n",
    "model.save(\"email_phishing_model.h5\")\n",
    "print(\"\\n✅ Model and vectorizer saved successfully.\")\n"
   ]
  },
  {
   "cell_type": "code",
   "execution_count": 2,
   "id": "fed75cb2-95c4-4f4a-b339-8fe4c1239fde",
   "metadata": {},
   "outputs": [
    {
     "name": "stderr",
     "output_type": "stream",
     "text": [
      "WARNING:absl:Compiled the loaded model, but the compiled metrics have yet to be built. `model.compile_metrics` will be empty until you train or evaluate the model.\n"
     ]
    },
    {
     "name": "stdout",
     "output_type": "stream",
     "text": [
      "\u001b[1m1/1\u001b[0m \u001b[32m━━━━━━━━━━━━━━━━━━━━\u001b[0m\u001b[37m\u001b[0m \u001b[1m0s\u001b[0m 119ms/step\n",
      "Prediction: Phishing Email\n"
     ]
    }
   ],
   "source": [
    "from tensorflow.keras.models import load_model\n",
    "import joblib\n",
    "\n",
    "# Load model and vectorizer\n",
    "model = load_model(\"email_phishing_model.h5\")\n",
    "vectorizer = joblib.load(\"tfidf_vectorizer.pkl\")\n",
    "label_encoder = joblib.load(\"label_encoder.pkl\")\n",
    "\n",
    "# Sample input\n",
    "email_text = \"Dear user, your account has been compromised. Click here to reset.\"\n",
    "\n",
    "# Vectorize and predict\n",
    "x_input = vectorizer.transform([email_text]).toarray()\n",
    "pred = model.predict(x_input)[0][0]\n",
    "label = label_encoder.inverse_transform([int(pred > 0.5)])\n",
    "\n",
    "print(f\"Prediction: {label[0]}\")\n"
   ]
  },
  {
   "cell_type": "code",
   "execution_count": null,
   "id": "21fcccfd-d309-45bc-be97-b88b0a90f3e2",
   "metadata": {},
   "outputs": [],
   "source": []
  }
 ],
 "metadata": {
  "kernelspec": {
   "display_name": "Python 3.11 (moviepy)",
   "language": "python",
   "name": "py311"
  },
  "language_info": {
   "codemirror_mode": {
    "name": "ipython",
    "version": 3
   },
   "file_extension": ".py",
   "mimetype": "text/x-python",
   "name": "python",
   "nbconvert_exporter": "python",
   "pygments_lexer": "ipython3",
   "version": "3.11.9"
  }
 },
 "nbformat": 4,
 "nbformat_minor": 5
}

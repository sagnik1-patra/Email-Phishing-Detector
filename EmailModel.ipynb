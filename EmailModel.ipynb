{
 "cells": [
  {
   "cell_type": "code",
   "execution_count": 1,
   "id": "7cd8745c-28dd-4eab-810c-45bbdf2f0706",
   "metadata": {},
   "outputs": [
    {
     "name": "stdout",
     "output_type": "stream",
     "text": [
      "\u001b[1m1/1\u001b[0m \u001b[32m━━━━━━━━━━━━━━━━━━━━\u001b[0m\u001b[37m\u001b[0m \u001b[1m0s\u001b[0m 86ms/step\n",
      "🕵️ Prediction: Phishing Email\n"
     ]
    }
   ],
   "source": [
    "import os\n",
    "import pickle\n",
    "import numpy as np\n",
    "from tensorflow.keras.models import load_model\n",
    "from sklearn.preprocessing import LabelEncoder\n",
    "\n",
    "# 📁 Set paths\n",
    "base_dir = r\"C:\\Users\\sagni\\Downloads\\Email Phising Detector\"\n",
    "model_path = os.path.join(base_dir, \"email_model.keras\")\n",
    "vectorizer_path = os.path.join(base_dir, \"tfidf_vectorizer.pkl\")\n",
    "label_encoder_path = os.path.join(base_dir, \"label_encoder.pkl\")\n",
    "\n",
    "# 🧠 Load model\n",
    "model = load_model(model_path)\n",
    "\n",
    "# 🧪 Load vectorizer and label encoder\n",
    "with open(vectorizer_path, \"rb\") as f:\n",
    "    vectorizer = pickle.load(f)\n",
    "\n",
    "with open(label_encoder_path, \"rb\") as f:\n",
    "    label_encoder = pickle.load(f)\n",
    "\n",
    "# 📝 Input: a new email to classify\n",
    "new_email = \"\"\"\n",
    "Congratulations! You've won a $1000 Amazon gift card. Click here to claim your prize.\n",
    "\"\"\"\n",
    "\n",
    "# ✨ Preprocess\n",
    "X_input = vectorizer.transform([new_email]).toarray()\n",
    "\n",
    "# 🔍 Predict\n",
    "prediction = model.predict(X_input)\n",
    "predicted_class = np.argmax(prediction, axis=1)\n",
    "predicted_label = label_encoder.inverse_transform(predicted_class)\n",
    "\n",
    "print(\"🕵️ Prediction:\", predicted_label[0])\n"
   ]
  },
  {
   "cell_type": "code",
   "execution_count": 5,
   "id": "453e0541-0fd8-472a-92a7-fa4e997dbc93",
   "metadata": {},
   "outputs": [
    {
     "name": "stdout",
     "output_type": "stream",
     "text": [
      "Epoch 1/10\n"
     ]
    },
    {
     "name": "stderr",
     "output_type": "stream",
     "text": [
      "C:\\Users\\sagni\\AppData\\Local\\Programs\\Python\\Python311\\Lib\\site-packages\\keras\\src\\layers\\core\\dense.py:93: UserWarning: Do not pass an `input_shape`/`input_dim` argument to a layer. When using Sequential models, prefer using an `Input(shape)` object as the first layer in the model instead.\n",
      "  super().__init__(activity_regularizer=activity_regularizer, **kwargs)\n"
     ]
    },
    {
     "name": "stdout",
     "output_type": "stream",
     "text": [
      "\u001b[1m373/373\u001b[0m \u001b[32m━━━━━━━━━━━━━━━━━━━━\u001b[0m\u001b[37m\u001b[0m \u001b[1m3s\u001b[0m 2ms/step - accuracy: 0.5416 - loss: 139.7956 - val_accuracy: 0.6026 - val_loss: 0.9450\n",
      "Epoch 2/10\n",
      "\u001b[1m373/373\u001b[0m \u001b[32m━━━━━━━━━━━━━━━━━━━━\u001b[0m\u001b[37m\u001b[0m \u001b[1m1s\u001b[0m 2ms/step - accuracy: 0.5508 - loss: 3.1068 - val_accuracy: 0.6046 - val_loss: 0.7044\n",
      "Epoch 3/10\n",
      "\u001b[1m373/373\u001b[0m \u001b[32m━━━━━━━━━━━━━━━━━━━━\u001b[0m\u001b[37m\u001b[0m \u001b[1m1s\u001b[0m 2ms/step - accuracy: 0.5741 - loss: 1.1119 - val_accuracy: 0.5932 - val_loss: 0.6991\n",
      "Epoch 4/10\n",
      "\u001b[1m373/373\u001b[0m \u001b[32m━━━━━━━━━━━━━━━━━━━━\u001b[0m\u001b[37m\u001b[0m \u001b[1m1s\u001b[0m 2ms/step - accuracy: 0.5895 - loss: 1.0184 - val_accuracy: 0.6050 - val_loss: 0.6867\n",
      "Epoch 5/10\n",
      "\u001b[1m373/373\u001b[0m \u001b[32m━━━━━━━━━━━━━━━━━━━━\u001b[0m\u001b[37m\u001b[0m \u001b[1m1s\u001b[0m 2ms/step - accuracy: 0.6046 - loss: 0.8195 - val_accuracy: 0.6036 - val_loss: 0.6805\n",
      "Epoch 6/10\n",
      "\u001b[1m373/373\u001b[0m \u001b[32m━━━━━━━━━━━━━━━━━━━━\u001b[0m\u001b[37m\u001b[0m \u001b[1m1s\u001b[0m 2ms/step - accuracy: 0.6089 - loss: 0.7615 - val_accuracy: 0.6053 - val_loss: 0.6710\n",
      "Epoch 7/10\n",
      "\u001b[1m373/373\u001b[0m \u001b[32m━━━━━━━━━━━━━━━━━━━━\u001b[0m\u001b[37m\u001b[0m \u001b[1m1s\u001b[0m 2ms/step - accuracy: 0.6121 - loss: 0.7336 - val_accuracy: 0.6036 - val_loss: 0.6716\n",
      "Epoch 8/10\n",
      "\u001b[1m373/373\u001b[0m \u001b[32m━━━━━━━━━━━━━━━━━━━━\u001b[0m\u001b[37m\u001b[0m \u001b[1m1s\u001b[0m 2ms/step - accuracy: 0.6076 - loss: 0.7041 - val_accuracy: 0.6036 - val_loss: 0.6718\n",
      "Epoch 9/10\n",
      "\u001b[1m373/373\u001b[0m \u001b[32m━━━━━━━━━━━━━━━━━━━━\u001b[0m\u001b[37m\u001b[0m \u001b[1m1s\u001b[0m 2ms/step - accuracy: 0.6116 - loss: 0.7130 - val_accuracy: 0.6036 - val_loss: 0.6715\n",
      "\u001b[1m117/117\u001b[0m \u001b[32m━━━━━━━━━━━━━━━━━━━━\u001b[0m\u001b[37m\u001b[0m \u001b[1m0s\u001b[0m 1ms/step\n",
      "\n",
      "Classification Report:\n",
      "               precision    recall  f1-score   support\n",
      "\n",
      "           0       0.47      0.02      0.03      1518\n",
      "           1       0.59      0.99      0.74      2209\n",
      "\n",
      "    accuracy                           0.59      3727\n",
      "   macro avg       0.53      0.50      0.39      3727\n",
      "weighted avg       0.54      0.59      0.45      3727\n",
      "\n",
      "Accuracy: 0.5918969680708345\n"
     ]
    },
    {
     "data": {
      "image/png": "[encoded data removed]",
      "text/plain": [
       "<Figure size 600x500 with 2 Axes>"
      ]
     },
     "metadata": {},
     "output_type": "display_data"
    },
    {
     "name": "stderr",
     "output_type": "stream",
     "text": [
      "WARNING:absl:You are saving your model as an HDF5 file via `model.save()` or `keras.saving.save_model(model)`. This file format is considered legacy. We recommend using instead the native Keras format, e.g. `model.save('my_model.keras')` or `keras.saving.save_model(model, 'my_model.keras')`. \n"
     ]
    },
    {
     "name": "stdout",
     "output_type": "stream",
     "text": [
      "YAML export not supported in this environment: cannot import name 'model_from_yaml' from 'tensorflow.keras.models' (C:\\Users\\sagni\\AppData\\Local\\Programs\\Python\\Python311\\Lib\\site-packages\\keras\\_tf_keras\\keras\\models\\__init__.py)\n"
     ]
    }
   ],
   "source": [
    "import pandas as pd\n",
    "import numpy as np\n",
    "import os\n",
    "import pickle\n",
    "import json\n",
    "import seaborn as sns\n",
    "import matplotlib.pyplot as plt\n",
    "\n",
    "from sklearn.model_selection import train_test_split\n",
    "from sklearn.preprocessing import LabelEncoder\n",
    "from sklearn.metrics import accuracy_score, classification_report, confusion_matrix\n",
    "\n",
    "from tensorflow.keras.models import Sequential\n",
    "from tensorflow.keras.layers import Dense, Dropout\n",
    "from tensorflow.keras.callbacks import EarlyStopping\n",
    "from tensorflow.keras.preprocessing.text import Tokenizer\n",
    "from tensorflow.keras.preprocessing.sequence import pad_sequences\n",
    "\n",
    "# Load dataset with correct path\n",
    "df = pd.read_csv(r\"C:\\Users\\sagni\\Downloads\\Email Phising Detector\\Phishing_Email.csv\")\n",
    "\n",
    "# ✅ Column names\n",
    "text_col = 'Email Text'\n",
    "label_col = 'Email Type'\n",
    "\n",
    "# Handle missing values\n",
    "df.dropna(subset=[text_col, label_col], inplace=True)\n",
    "\n",
    "# Encode labels\n",
    "label_encoder = LabelEncoder()\n",
    "y = label_encoder.fit_transform(df[label_col])\n",
    "\n",
    "# Save label encoder\n",
    "save_dir = r\"C:\\Users\\sagni\\Downloads\\phishing_email_model\"\n",
    "os.makedirs(save_dir, exist_ok=True)\n",
    "with open(os.path.join(save_dir, \"label_encoder.pkl\"), \"wb\") as f:\n",
    "    pickle.dump(label_encoder, f)\n",
    "\n",
    "# Tokenize the text\n",
    "tokenizer = Tokenizer(num_words=5000, oov_token=\"<OOV>\")\n",
    "tokenizer.fit_on_texts(df[text_col])\n",
    "X = tokenizer.texts_to_sequences(df[text_col])\n",
    "\n",
    "# Save tokenizer\n",
    "with open(os.path.join(save_dir, \"tokenizer.pkl\"), \"wb\") as f:\n",
    "    pickle.dump(tokenizer, f)\n",
    "\n",
    "# Pad sequences\n",
    "max_len = 200\n",
    "X = pad_sequences(X, maxlen=max_len, padding='post')\n",
    "\n",
    "# Train/test split\n",
    "X_train, X_test, y_train, y_test = train_test_split(X, y, test_size=0.2, random_state=42)\n",
    "\n",
    "# Build model\n",
    "model = Sequential()\n",
    "model.add(Dense(128, activation='relu', input_shape=(max_len,)))\n",
    "model.add(Dropout(0.3))\n",
    "model.add(Dense(64, activation='relu'))\n",
    "model.add(Dropout(0.3))\n",
    "model.add(Dense(1, activation='sigmoid'))\n",
    "\n",
    "model.compile(loss='binary_crossentropy', optimizer='adam', metrics=['accuracy'])\n",
    "\n",
    "# Train model\n",
    "history = model.fit(\n",
    "    X_train, y_train,\n",
    "    epochs=10,\n",
    "    batch_size=32,\n",
    "    validation_split=0.2,\n",
    "    callbacks=[EarlyStopping(patience=3, restore_best_weights=True)]\n",
    ")\n",
    "\n",
    "# Evaluate\n",
    "y_pred = model.predict(X_test)\n",
    "y_pred_binary = (y_pred > 0.5).astype(int)\n",
    "\n",
    "print(\"\\nClassification Report:\\n\", classification_report(y_test, y_pred_binary))\n",
    "print(\"Accuracy:\", accuracy_score(y_test, y_pred_binary))\n",
    "\n",
    "# Confusion matrix\n",
    "cm = confusion_matrix(y_test, y_pred_binary)\n",
    "plt.figure(figsize=(6, 5))\n",
    "sns.heatmap(cm, annot=True, fmt='d', cmap='Blues',\n",
    "            xticklabels=label_encoder.classes_,\n",
    "            yticklabels=label_encoder.classes_)\n",
    "plt.xlabel('Predicted')\n",
    "plt.ylabel('True')\n",
    "plt.title('Confusion Matrix')\n",
    "plt.tight_layout()\n",
    "plt.show()\n",
    "\n",
    "# Save model architecture (JSON)\n",
    "model_json = model.to_json()\n",
    "with open(os.path.join(save_dir, \"model.json\"), \"w\") as json_file:\n",
    "    json.dump(model_json, json_file)\n",
    "\n",
    "# ✅ Save model weights (correct filename suffix)\n",
    "model.save_weights(os.path.join(save_dir, \"model.weights.h5\"))\n",
    "\n",
    "# ✅ Save full model\n",
    "model.save(os.path.join(save_dir, \"model.h5\"))\n",
    "\n",
    "# Save architecture in YAML (optional)\n",
    "try:\n",
    "    from tensorflow.keras.models import model_from_yaml\n",
    "    model_yaml = model.to_yaml()\n",
    "    with open(os.path.join(save_dir, \"model.yaml\"), \"w\") as yaml_file:\n",
    "        yaml_file.write(model_yaml)\n",
    "except Exception as e:\n",
    "    print(\"YAML export not supported in this environment:\", e)\n"
   ]
  },
  {
   "cell_type": "code",
   "execution_count": null,
   "id": "6a0ac00e-a8be-4dc5-832f-1415f039fd4e",
   "metadata": {},
   "outputs": [],
   "source": []
  }
 ],
 "metadata": {
  "kernelspec": {
   "display_name": "Python 3.11 (moviepy)",
   "language": "python",
   "name": "py311"
  },
  "language_info": {
   "codemirror_mode": {
    "name": "ipython",
    "version": 3
   },
   "file_extension": ".py",
   "mimetype": "text/x-python",
   "name": "python",
   "nbconvert_exporter": "python",
   "pygments_lexer": "ipython3",
   "version": "3.11.9"
  }
 },
 "nbformat": 4,
 "nbformat_minor": 5
}
